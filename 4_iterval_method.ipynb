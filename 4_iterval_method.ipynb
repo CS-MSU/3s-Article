{
 "cells": [
  {
   "cell_type": "markdown",
   "metadata": {},
   "source": [
    "# Interval method for weather predictions"
   ]
  },
  {
   "cell_type": "code",
   "execution_count": 1,
   "metadata": {},
   "outputs": [],
   "source": [
    "import numpy as np\n",
    "import pandas as pd\n",
    "import matplotlib.pyplot as plt"
   ]
  },
  {
   "cell_type": "code",
   "execution_count": 2,
   "metadata": {},
   "outputs": [],
   "source": [
    "from sklearn.metrics import mean_squared_error"
   ]
  },
  {
   "cell_type": "code",
   "execution_count": 3,
   "metadata": {},
   "outputs": [],
   "source": [
    "%matplotlib inline\n",
    "plt.rcParams[\"figure.figsize\"] = (15, 12)"
   ]
  },
  {
   "cell_type": "code",
   "execution_count": 4,
   "metadata": {},
   "outputs": [],
   "source": [
    "def relative_rmse(target, preds):\n",
    "    rmse = mean_squared_error(target, preds, squared=False)\n",
    "    avg = np.full(len(preds), preds.mean())\n",
    "    const_rmse = mean_squared_error(target, avg, squared=False)\n",
    "    return rmse / const_rmse"
   ]
  },
  {
   "cell_type": "markdown",
   "metadata": {},
   "source": [
    "### Reading data"
   ]
  },
  {
   "cell_type": "code",
   "execution_count": 13,
   "metadata": {},
   "outputs": [],
   "source": [
    "high = pd.read_csv('predicted_weather/prophet_high.csv')\n",
    "low = pd.read_csv('predicted_weather/prophet_low.csv')"
   ]
  },
  {
   "cell_type": "code",
   "execution_count": 14,
   "metadata": {},
   "outputs": [
    {
     "name": "stderr",
     "output_type": "stream",
     "text": [
      "/var/folders/8j/21yjmtfs3h5bg4fw61rbh_rr0000gn/T/ipykernel_8223/844755778.py:1: SettingWithCopyWarning: \n",
      "A value is trying to be set on a copy of a slice from a DataFrame\n",
      "\n",
      "See the caveats in the documentation: https://pandas.pydata.org/pandas-docs/stable/user_guide/indexing.html#returning-a-view-versus-a-copy\n",
      "  low['VAP'][low['VAP'] < 0] = 0.06\n",
      "/var/folders/8j/21yjmtfs3h5bg4fw61rbh_rr0000gn/T/ipykernel_8223/844755778.py:2: SettingWithCopyWarning: \n",
      "A value is trying to be set on a copy of a slice from a DataFrame\n",
      "\n",
      "See the caveats in the documentation: https://pandas.pydata.org/pandas-docs/stable/user_guide/indexing.html#returning-a-view-versus-a-copy\n",
      "  low['RAIN'][low['RAIN'] < 0] = 0\n"
     ]
    }
   ],
   "source": [
    "low['VAP'][low['VAP'] < 0] = 0.06\n",
    "low['RAIN'][low['RAIN'] < 0] = 0"
   ]
  },
  {
   "cell_type": "code",
   "execution_count": 16,
   "metadata": {},
   "outputs": [
    {
     "name": "stderr",
     "output_type": "stream",
     "text": [
      "/var/folders/8j/21yjmtfs3h5bg4fw61rbh_rr0000gn/T/ipykernel_8223/2604046005.py:1: SettingWithCopyWarning: \n",
      "A value is trying to be set on a copy of a slice from a DataFrame\n",
      "\n",
      "See the caveats in the documentation: https://pandas.pydata.org/pandas-docs/stable/user_guide/indexing.html#returning-a-view-versus-a-copy\n",
      "  high['VAP'][high['VAP'] < 0] = 0.06\n",
      "/var/folders/8j/21yjmtfs3h5bg4fw61rbh_rr0000gn/T/ipykernel_8223/2604046005.py:2: SettingWithCopyWarning: \n",
      "A value is trying to be set on a copy of a slice from a DataFrame\n",
      "\n",
      "See the caveats in the documentation: https://pandas.pydata.org/pandas-docs/stable/user_guide/indexing.html#returning-a-view-versus-a-copy\n",
      "  high['RAIN'][high['RAIN'] < 0] = 0\n"
     ]
    }
   ],
   "source": [
    "high['VAP'][high['VAP'] < 0] = 0.06\n",
    "high['RAIN'][high['RAIN'] < 0] = 0"
   ]
  },
  {
   "cell_type": "code",
   "execution_count": 17,
   "metadata": {},
   "outputs": [],
   "source": [
    "low.to_csv('predicted_weather/prophet_low.csv', index=False)\n",
    "high.to_csv('predicted_weather/prophet_high.csv', index=False)"
   ]
  },
  {
   "cell_type": "code",
   "execution_count": 18,
   "metadata": {},
   "outputs": [],
   "source": [
    "pivot = low.merge(high, on=['DAY', 'SNOWDEPTH'])"
   ]
  },
  {
   "cell_type": "code",
   "execution_count": 19,
   "metadata": {},
   "outputs": [],
   "source": [
    "def get_dateset(df, name, n):\n",
    "    df[f'Width_{name}'] = df[f'{name}_y'] - df[f'{name}_x'] \n",
    "    df[f'Delta_{name}'] = df[f'Width_{name}'] / n\n",
    "    temp = df[[f'Delta_{name}', f'{name}_x']].copy()\n",
    "    for i in range(1, n+1):\n",
    "        temp[f'{name}_{i}'] = temp[f'{name}_x'] + i * temp[f'Delta_{name}']\n",
    "    temp.rename({f'{name}_x': f'{name}_0'}, axis=1, inplace=True)\n",
    "    return temp.drop([f'Delta_{name}'], axis=1)"
   ]
  },
  {
   "cell_type": "code",
   "execution_count": 20,
   "metadata": {},
   "outputs": [],
   "source": [
    "n = 8"
   ]
  },
  {
   "cell_type": "code",
   "execution_count": 21,
   "metadata": {},
   "outputs": [],
   "source": [
    "irrad = get_dateset(pivot, 'IRRAD', n)\n",
    "tmin = get_dateset(pivot, 'TMIN', n)\n",
    "tmax = get_dateset(pivot, 'TMAX', n)\n",
    "vap = get_dateset(pivot, 'VAP', n)\n",
    "wind = get_dateset(pivot, 'WIND', n)\n",
    "rain = get_dateset(pivot, 'RAIN', n)"
   ]
  },
  {
   "cell_type": "code",
   "execution_count": 22,
   "metadata": {},
   "outputs": [],
   "source": [
    "irrad.to_csv('predicted_weather/interval_data/irrad.csv', index=False)\n",
    "tmin.to_csv('predicted_weather/interval_data/tmin.csv', index=False)\n",
    "tmax.to_csv('predicted_weather/interval_data/tmax.csv', index=False)\n",
    "vap.to_csv('predicted_weather/interval_data/vap.csv', index=False)\n",
    "wind.to_csv('predicted_weather/interval_data/wind.csv', index=False)\n",
    "rain.to_csv('predicted_weather/interval_data/rain.csv', index=False)"
   ]
  },
  {
   "cell_type": "code",
   "execution_count": null,
   "metadata": {},
   "outputs": [],
   "source": [
    "def product_columns():\n",
    "    for x1 in range(n+1):\n",
    "        for x2 in range(n+1):\n",
    "            for x3 in range(n+1):\n",
    "                for x4 in range(n+1):\n",
    "                    for x5 in range(n+1):\n",
    "                        for x6 in range(n+1):\n",
    "                            tmp = low[['DAY', 'SNOWDEPTH']].copy()\n",
    "                            tmp['IRRAD'] = irrad[f'IRRAD_{x1}']\n",
    "                            tmp['TMIN'] = tmin[f'TMIN_{x2}']\n",
    "                            tmp['TMAX'] = tmax[f'TMAX_{x3}']\n",
    "                            tmp['VAP'] = vap[f'VAP_{x4}']\n",
    "                            tmp['WIND'] = wind[f'WIND_{x5}']\n",
    "                            tmp['RAIN'] = rain[f'RAIN_{x6}']\n",
    "                            tmp.to_csv(f'predicted_weather/interval_data/{x1}_{x2}_{x3}_{x4}_{x5}_{x6}.csv', index=False)"
   ]
  },
  {
   "cell_type": "code",
   "execution_count": null,
   "metadata": {},
   "outputs": [],
   "source": [
    "product_columns()"
   ]
  }
 ],
 "metadata": {
  "kernelspec": {
   "display_name": "Python 3.8.13 ('article')",
   "language": "python",
   "name": "python3"
  },
  "language_info": {
   "codemirror_mode": {
    "name": "ipython",
    "version": 3
   },
   "file_extension": ".py",
   "mimetype": "text/x-python",
   "name": "python",
   "nbconvert_exporter": "python",
   "pygments_lexer": "ipython3",
   "version": "3.8.13"
  },
  "orig_nbformat": 4,
  "vscode": {
   "interpreter": {
    "hash": "a2c5780acc6a1a7032bf798dbdf9a65349f4477246c6308bb1f6d7b31934368c"
   }
  }
 },
 "nbformat": 4,
 "nbformat_minor": 2
}
